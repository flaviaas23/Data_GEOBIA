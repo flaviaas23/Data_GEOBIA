version https://git-lfs.github.com/spec/v1
oid sha256:bcd8415464d84a9825484ee3f30634745ff4df1c284cbbe33272bda179d9b2c3
size 15077874
