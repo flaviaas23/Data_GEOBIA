version https://git-lfs.github.com/spec/v1
oid sha256:54b85e5bb4b929c93297fb6682d7f4dcf34b157715abf21d077778161e61c1da
size 35782098
