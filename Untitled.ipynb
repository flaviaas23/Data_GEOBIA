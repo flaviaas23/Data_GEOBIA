version https://git-lfs.github.com/spec/v1
oid sha256:13c07663f5bac91c412f0e02651af8a554114c478b6cfaac812d7af5b028e82d
size 11034
