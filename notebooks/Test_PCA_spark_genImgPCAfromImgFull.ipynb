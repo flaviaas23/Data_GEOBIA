version https://git-lfs.github.com/spec/v1
oid sha256:50b0785053646ae320f2738ceaab716eb69a9732f151c32b9510e8af1f2f5f3d
size 55281
