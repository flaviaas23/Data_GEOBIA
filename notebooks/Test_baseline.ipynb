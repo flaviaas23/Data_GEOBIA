version https://git-lfs.github.com/spec/v1
oid sha256:f14be79d18b4942e52400dcd67c535edb808f19d8ba81ddea522fedc0e73c53d
size 14182346
