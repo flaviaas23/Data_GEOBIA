version https://git-lfs.github.com/spec/v1
oid sha256:6a3e85bcf55e1dc66991eedf263cdd1d77f8726a0627a13001c8a5652d913b46
size 73247
