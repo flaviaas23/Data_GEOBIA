version https://git-lfs.github.com/spec/v1
oid sha256:0138db0045d3b3713f2997a66494db20fa91642cf586f765fd2e60c5b7b6f70f
size 27652648
