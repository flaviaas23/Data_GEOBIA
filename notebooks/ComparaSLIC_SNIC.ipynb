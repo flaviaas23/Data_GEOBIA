version https://git-lfs.github.com/spec/v1
oid sha256:98f8c3c6d856ee8e4ec2cae09bf744c586007cdc4deeb0a0d69795f28de4bca9
size 65984212
