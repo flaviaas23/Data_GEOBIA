version https://git-lfs.github.com/spec/v1
oid sha256:b4cd70e31e79474201ee16e5c76c3de8a2edb1178642efdca697ac54b86ab8d9
size 65984213
