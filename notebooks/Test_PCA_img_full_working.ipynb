version https://git-lfs.github.com/spec/v1
oid sha256:a0b00dab27c77019482a0ce839e726dfa208484484c472b7830ff4165f24e0aa
size 32787872
