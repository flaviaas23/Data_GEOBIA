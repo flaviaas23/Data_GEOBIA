version https://git-lfs.github.com/spec/v1
oid sha256:2fed2d40d19ac229afdd58967dda10a612e42786cbd546d497dd8135acf40c93
size 65984584
