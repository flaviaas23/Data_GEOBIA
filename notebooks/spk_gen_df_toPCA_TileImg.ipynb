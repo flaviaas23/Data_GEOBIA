version https://git-lfs.github.com/spec/v1
oid sha256:ffe0806040d6ce72896737097369e2f0c079baf0286579fa0ab986c3804168f1
size 87289
