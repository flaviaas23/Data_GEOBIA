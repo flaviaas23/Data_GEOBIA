version https://git-lfs.github.com/spec/v1
oid sha256:84bd7e6a175771ed29544952ad4747ff43fbb97d7dd9a02159fd4823cf625952
size 87314
