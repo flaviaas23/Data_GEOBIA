version https://git-lfs.github.com/spec/v1
oid sha256:e984bb337b7cdc071919f53f43fb22f2a15d037c86a2e3263153c520531ceb62
size 55427570
