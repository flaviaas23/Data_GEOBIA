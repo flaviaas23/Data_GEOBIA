version https://git-lfs.github.com/spec/v1
oid sha256:17e5184ba08994051cd4cc268cdc78c4a6fac7383a78ea7ac1f9755a7c8b0a13
size 37810272
