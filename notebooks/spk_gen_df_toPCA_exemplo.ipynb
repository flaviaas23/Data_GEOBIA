version https://git-lfs.github.com/spec/v1
oid sha256:a2a0ef1afad82eb2dedae39e68279d27d4f330866d038259e92d8e8fb03a9295
size 698459
