version https://git-lfs.github.com/spec/v1
oid sha256:f9e52d566db6ae4fb33eee1f3f6d846bfc48161447e9f435e4df7d130a8497b6
size 670596
