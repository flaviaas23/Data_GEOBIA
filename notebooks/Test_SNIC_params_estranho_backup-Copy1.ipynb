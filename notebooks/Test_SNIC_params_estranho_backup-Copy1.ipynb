version https://git-lfs.github.com/spec/v1
oid sha256:7ac2f3db476bffd574ef83814dd43072607b73e62aedf434cab38e8f46936e5b
size 201774027
