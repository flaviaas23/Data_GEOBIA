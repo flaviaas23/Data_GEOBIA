version https://git-lfs.github.com/spec/v1
oid sha256:151bec634be00129cdd8589b47e2b02f41cb0c5ef02c5a8c970624ae1ab6d4d6
size 33199358
